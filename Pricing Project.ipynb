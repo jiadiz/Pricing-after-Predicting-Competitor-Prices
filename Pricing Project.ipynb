{
 "cells": [
  {
   "cell_type": "markdown",
   "id": "82762bc3",
   "metadata": {},
   "source": [
    "# Pricing Project"
   ]
  },
  {
   "cell_type": "markdown",
   "id": "a609d7d8",
   "metadata": {},
   "source": [
    "Background: <br>In the solar industry, prospects that are from the source 'energy sage' typically ask for multiple quotes from multiple companies. Therefore, to win those customers from other competitors, it is important to know how the competitors are pricing their products. <br> In this script, we demonstrate how to price for a competitive order by first:<br>\n",
    "(1) using machine learning to estimate the distribution of prices for each major competitor<br>\n",
    "(2) choose a pricing that has the optimal balance between the risk of being higher than everyone else and how low the price is. "
   ]
  },
  {
   "cell_type": "markdown",
   "id": "9a31b6bb",
   "metadata": {},
   "source": [
    "load the data"
   ]
  },
  {
   "cell_type": "code",
   "execution_count": 1,
   "id": "d8a9b027",
   "metadata": {},
   "outputs": [],
   "source": [
    "import warnings \n",
    "import pandas as pd"
   ]
  },
  {
   "cell_type": "code",
   "execution_count": 2,
   "id": "de34d1ef",
   "metadata": {},
   "outputs": [],
   "source": [
    "warnings.filterwarnings('ignore')"
   ]
  },
  {
   "cell_type": "code",
   "execution_count": 3,
   "id": "de21fb1d",
   "metadata": {},
   "outputs": [],
   "source": [
    "import seaborn as sns\n",
    "\n",
    "import pandas as pd\n",
    "import warnings\n",
    "\n",
    "import seaborn as sns\n",
    "import numpy as np\n",
    "from sklearn.cluster import KMeans\n",
    "\n",
    "import matplotlib.pyplot as plt\n",
    "from sklearn.preprocessing import StandardScaler\n"
   ]
  },
  {
   "cell_type": "code",
   "execution_count": 4,
   "id": "30c2a431",
   "metadata": {},
   "outputs": [],
   "source": [
    "import pandas as pd\n",
    "\n",
    "pge_data = pd.read_csv('Interconnection_Applications_Dataset_2023-08-31/PGE data.csv')\n",
    "sce_data = pd.read_csv('Interconnection_Applications_Dataset_2023-08-31/SCE data.csv')\n",
    "sdge_data = pd.read_csv('Interconnection_Applications_Dataset_2023-08-31/SDGE data.csv')"
   ]
  },
  {
   "cell_type": "code",
   "execution_count": 5,
   "id": "d096df8e",
   "metadata": {},
   "outputs": [],
   "source": [
    "solar_data = pd.concat([pge_data,sce_data,sdge_data])"
   ]
  },
  {
   "cell_type": "markdown",
   "id": "2c9ca171",
   "metadata": {},
   "source": [
    "Delete data the original data to save space"
   ]
  },
  {
   "cell_type": "code",
   "execution_count": 6,
   "id": "f6eb0a18",
   "metadata": {},
   "outputs": [],
   "source": [
    "del pge_data\n",
    "del sdge_data\n",
    "del sce_data"
   ]
  },
  {
   "cell_type": "markdown",
   "id": "a242a414",
   "metadata": {},
   "source": [
    "### Feature engineering"
   ]
  },
  {
   "cell_type": "markdown",
   "id": "da747420",
   "metadata": {},
   "source": [
    "Deleting columns that are not contributive to estimating the price of a solar system. "
   ]
  },
  {
   "cell_type": "code",
   "execution_count": 7,
   "id": "4f5c65f6",
   "metadata": {},
   "outputs": [],
   "source": [
    "useless_columns = []\n",
    "for i in range(4, 10):\n",
    "    useless_columns.append('Generator Model '+ str(i))\n",
    "    useless_columns.append('Generator Manufacturer '+ str(i))\n",
    "    useless_columns.append('Generator Quantity ' + str(i))\n",
    "    useless_columns.append('Inverter Model '+ str(i))\n",
    "    useless_columns.append('Inverter Quantity '+ str(i))\n",
    "    \n",
    "solar_data.drop(useless_columns, axis = 1, inplace = True)"
   ]
  },
  {
   "cell_type": "markdown",
   "id": "2851739b",
   "metadata": {},
   "source": [
    "The brand of solar panel is an important determinant of price. Therefore, we want to extract the element of what the brand is."
   ]
  },
  {
   "cell_type": "code",
   "execution_count": 8,
   "id": "46efb60f",
   "metadata": {},
   "outputs": [],
   "source": [
    "# solar_data['Generator Model 1'].value_counts()[:50]\n",
    "\n",
    "def compute_panel_type(df, column):\n",
    "    list_a = []\n",
    "    for i in df[column]:\n",
    "#     print(i)\n",
    "        if pd.isna(i):\n",
    "            list_a.append('nan')\n",
    "        elif i == 'Generic Module Model':\n",
    "            list_a.append('Generic Module Model')\n",
    "        elif i[:3] == 'SPR':\n",
    "            list_a.append('SPR')\n",
    "        elif i[:2] == 'Q.':\n",
    "            list_a.append('Q.')\n",
    "        elif i[:2] == 'LR' and str(3).isnumeric():\n",
    "            list_a.append('LR')\n",
    "        elif i[:3] == 'JAM':\n",
    "            list_a.append('JAM')\n",
    "        elif i[:3] == 'REC':\n",
    "            list_a.append('REC')\n",
    "        elif i[:3] == 'JKM':\n",
    "            list_a.append('JKM')\n",
    "        elif i[:2] == 'SW':\n",
    "            list_a.append('SW ')\n",
    "        elif i[:2] == 'YL':\n",
    "            list_a.append( 'YL')\n",
    "        elif i[:2] == 'LG':\n",
    "            list_a.append(\"LG\")\n",
    "        elif i[:2] == 'KU':\n",
    "            list_a.append('KU')\n",
    "        elif i[:3] == 'TSM':\n",
    "            list_a.append('TSM')\n",
    "        elif i[:2] == 'SC' and i[2].isnumeric():\n",
    "            list_a.append('SC')\n",
    "        elif i[:2] == 'CS' and i[2].isnumeric():\n",
    "            list_a.append('CS')\n",
    "        elif i[:3] == 'TSM':\n",
    "            list_a.append('TSM')\n",
    "        elif i[:3] == 'DNA':\n",
    "            list_a.append('DNA')\n",
    "        elif i[:3] == 'VBN':\n",
    "            list_a.append('VBN')\n",
    "        elif i[:3] == 'VBH':\n",
    "            list_a.append('VBH')\n",
    "        elif i[:3] == 'MSE':\n",
    "            list_a.append('MSE')\n",
    "        elif i[0] == 'T' and i[1:4].isnumeric():\n",
    "            list_a.append('T')\n",
    "        elif i[:3] == 'SIL':\n",
    "            list_a.append('SIL')\n",
    "        elif i[:3] == 'BVM':\n",
    "            list_a.append('BVM')\n",
    "        elif i[:3] == 'HiS':\n",
    "            list_a.append('HiS')\n",
    "        elif i[:3] == 'VBN':\n",
    "            list_a.append('VBN')\n",
    "        elif i[:7] == 'Solaria':\n",
    "            list_a.append('Solaria')\n",
    "        elif i[:3] == 'EVP':\n",
    "            list_a.append('EVP')\n",
    "        elif i[:2] == 'SE' and i[2] == '-':\n",
    "            list_a.append('SE')\n",
    "        elif i[:2] == 'ET' and i[2] == '-':\n",
    "            list_a.append('ET')\n",
    "        elif i[:2] == 'KD' and i[2].isnumeric():\n",
    "            list_a.append('KD')\n",
    "        elif i[:2] == 'PM' and i[2].isnumeric():\n",
    "            list_a.append('PM')\n",
    "        elif i[:3] == 'SLA':\n",
    "            list_a.append('SLA')\n",
    "        elif i[:3] == 'SST':\n",
    "            list_a.append('SST')\n",
    "        elif i[:4] == 'WSMD':\n",
    "            list_a.append('WSMD')\n",
    "        elif i[:2] == 'SE' and i[2] == '-':\n",
    "            list_a.append('SE')\n",
    "        elif i[:3] == 'STP' :\n",
    "            list_a.append('STP')\n",
    "        elif (i[:2] == 'AC' and i[3:12] == 'Powerwall') or ('ACPowerwall' in i):\n",
    "            list_a.append('AC Powerwall')\n",
    "        elif i[:7] == 'Protect':\n",
    "            list_a.append('Protect')\n",
    "        elif i[:2] == 'ND':\n",
    "            list_a.append('ND')\n",
    "        elif i[:2] == 'BP':\n",
    "            list_a.append('BP')\n",
    "        elif i[:2] == 'IQ' and i[2].isnumeric():\n",
    "            list_a.append('IQ')\n",
    "        elif i[:2] == 'CT' and i[2:5].isnumeric():\n",
    "            list_a.append('CT')\n",
    "        elif i[:3] == 'OPT' and i[3:6]:\n",
    "            list_a.append('OPT')\n",
    "        elif i[:2] == 'JC' and i[3:6]:\n",
    "            list_a.append('JC')\n",
    "        elif i[:2] == 'NU' and i[2]== '-':\n",
    "            list_a.append('NU-')\n",
    "        elif 'Sunmodule' in i:\n",
    "            list_a.append('Sunmodule')\n",
    "        elif 'Powerwall 2' in i:\n",
    "            list_a.append('Powerwall')\n",
    "        elif i[:2] == 'SE' and i[2:6].isnumeric():\n",
    "            list_a.append('SE0000')\n",
    "        elif i[:2] == 'FF' and i[2] == '-':\n",
    "            list_a.append('FF-')\n",
    "        elif i[:2] == 'NT' and i[2] == '-':\n",
    "            list_a.append('NT-')\n",
    "        elif i[:2] == 'NE' and i[2] == '-':\n",
    "            list_a.append('NE-')\n",
    "        elif i[:3] == 'ZXM' and i[3].isnumeric():\n",
    "            list_a.append('ZXM0')\n",
    "        else:\n",
    "            list_a.append('other')\n",
    "    return list_a"
   ]
  },
  {
   "cell_type": "code",
   "execution_count": 9,
   "id": "e9ef6969",
   "metadata": {},
   "outputs": [],
   "source": [
    "solar_data['Panel Type 1'] = compute_panel_type(solar_data, 'Generator Model 1')\n",
    "solar_data['Panel Type 2'] = compute_panel_type(solar_data, 'Generator Model 2')\n",
    "solar_data['Panel Type 3'] = compute_panel_type(solar_data, 'Generator Model 3')\n",
    "\n"
   ]
  },
  {
   "cell_type": "markdown",
   "id": "fba76c25",
   "metadata": {},
   "source": [
    "Make the zip code column categorical"
   ]
  },
  {
   "cell_type": "code",
   "execution_count": 10,
   "id": "541e5895",
   "metadata": {},
   "outputs": [
    {
     "data": {
      "text/plain": [
       "(1817962, 81)"
      ]
     },
     "execution_count": 10,
     "metadata": {},
     "output_type": "execute_result"
    }
   ],
   "source": [
    "solar_data['Service Zip'] = solar_data['Service Zip'].astype(str)\n",
    "solar_data.shape"
   ]
  },
  {
   "cell_type": "code",
   "execution_count": 11,
   "id": "9132856f",
   "metadata": {},
   "outputs": [
    {
     "data": {
      "text/plain": [
       "count    1.428490e+06\n",
       "mean     4.650938e+00\n",
       "std      2.224015e+00\n",
       "min      1.000000e-06\n",
       "25%      3.665869e+00\n",
       "50%      4.564256e+00\n",
       "75%      5.562043e+00\n",
       "max      5.000000e+01\n",
       "Name: Cost/Watt, dtype: float64"
      ]
     },
     "execution_count": 11,
     "metadata": {},
     "output_type": "execute_result"
    }
   ],
   "source": [
    "solar_data[solar_data['Cost/Watt'] != 0 ]['Cost/Watt'].describe()"
   ]
  },
  {
   "cell_type": "markdown",
   "id": "a7c60808",
   "metadata": {},
   "source": [
    "Preserving only residential solar system, since this project is about winning residential customers."
   ]
  },
  {
   "cell_type": "code",
   "execution_count": 12,
   "id": "afe7733f",
   "metadata": {},
   "outputs": [
    {
     "data": {
      "text/plain": [
       "(1776577, 81)"
      ]
     },
     "execution_count": 12,
     "metadata": {},
     "output_type": "execute_result"
    }
   ],
   "source": [
    "res_data = solar_data[solar_data['Customer Sector'] == 'Residential']\n",
    "res_data.shape"
   ]
  },
  {
   "cell_type": "markdown",
   "id": "a3449a99",
   "metadata": {},
   "source": [
    "The maximum generation capacity of the panels is also contributive to price. Therefore,we will extract the maximum generation capacity of the panels too"
   ]
  },
  {
   "cell_type": "code",
   "execution_count": 13,
   "id": "7ed441c4",
   "metadata": {},
   "outputs": [],
   "source": [
    "panel_type = res_data['Generator Model 1'].str.extract(r'(\\d{3})')\n",
    "res_data['panel_size'] = panel_type\n",
    "res_data['panel_size'] = res_data['panel_size'].astype(float)\n",
    "res_data['panel_size'].fillna(0, inplace = True)"
   ]
  },
  {
   "cell_type": "code",
   "execution_count": 14,
   "id": "31cdfc25",
   "metadata": {},
   "outputs": [],
   "source": [
    "panel_type = res_data['Generator Model 2'].str.extract(r'(\\d{3})')\n",
    "res_data['panel2_size'] = panel_type\n",
    "res_data['panel2_size'] = res_data['panel2_size'].astype(float)\n"
   ]
  },
  {
   "cell_type": "code",
   "execution_count": 15,
   "id": "2a646bc2",
   "metadata": {},
   "outputs": [],
   "source": [
    "res_data['panel2_size'].fillna(0, inplace = True)"
   ]
  },
  {
   "cell_type": "code",
   "execution_count": 16,
   "id": "c8642bb3",
   "metadata": {},
   "outputs": [],
   "source": [
    "panel_type = res_data['Generator Model 3'].str.extract(r'(\\d{3})')\n",
    "res_data['panel3_size'] = panel_type\n",
    "res_data['panel3_size'] = res_data['panel3_size'].astype(float)"
   ]
  },
  {
   "cell_type": "code",
   "execution_count": 17,
   "id": "1e29fef2",
   "metadata": {},
   "outputs": [],
   "source": [
    "res_data['panel3_size'].fillna(0, inplace = True)"
   ]
  },
  {
   "cell_type": "code",
   "execution_count": 18,
   "id": "47b57ab0",
   "metadata": {},
   "outputs": [
    {
     "data": {
      "text/plain": [
       "(1776577, 84)"
      ]
     },
     "execution_count": 18,
     "metadata": {},
     "output_type": "execute_result"
    }
   ],
   "source": [
    "res_data.shape"
   ]
  },
  {
   "cell_type": "markdown",
   "id": "a9869daf",
   "metadata": {},
   "source": [
    "Standardizing the County column"
   ]
  },
  {
   "cell_type": "code",
   "execution_count": 19,
   "id": "56498685",
   "metadata": {},
   "outputs": [],
   "source": [
    "lista = []\n",
    "for i in res_data['Service County']:\n",
    "    lista.append(i.lower())\n",
    "res_data['Service County'] = lista\n",
    "\n",
    "lista = []\n",
    "for i in res_data['Service City']:\n",
    "    lista.append(str(i).lower())\n",
    "res_data['Service City'] = lista\n",
    "# Deleting the data in 'alpine' County, because \n",
    "res_data = res_data[res_data['Service County'] != 'alpine']"
   ]
  },
  {
   "cell_type": "markdown",
   "id": "04c95082",
   "metadata": {},
   "source": [
    "The size and type of inverter could be important for price determination, so we want to preserve the 'inverter' column. We will:<br>\n",
    "(1) Deleting unreasonable data points. Inverter/system Size ratio cannot be negative, nor can it be 0 or lower than 0.025. Therefore, we will delete these rows.<br>\n",
    "(2) We will label those rows whose 'inverter' column in missing by adding a column 'inverter_value_missing'. Since we are using tree models to estimate price, and tree models are good at distinguishing abnormal values we will fill NA with negative -999. "
   ]
  },
  {
   "cell_type": "code",
   "execution_count": 20,
   "id": "6fb684ec",
   "metadata": {},
   "outputs": [
    {
     "name": "stdout",
     "output_type": "stream",
     "text": [
      "(1756128, 84)\n",
      "(1756128, 85)\n",
      "(1756128, 85)\n"
     ]
    }
   ],
   "source": [
    "res_data = res_data[res_data['System Size DC'] > 0]\n",
    "print(res_data.shape)\n",
    "# res_data= res_data[res_data['Total System Cost'] > 0]\n",
    "\n",
    "res_data['Inverter_value_missing'] = res_data['Inverter Size (kW AC)'].isnull().astype(int)\n",
    "print(res_data.shape)\n",
    "res_data['Inverter Size (kW AC)'].fillna(-999, inplace=True)\n",
    "print(res_data.shape)\n",
    "\n"
   ]
  },
  {
   "cell_type": "markdown",
   "id": "d6ff5fe1",
   "metadata": {},
   "source": [
    "In reality the inverter size cannot be 0, therefore, we will label the rows whose inverter to solar ratio is below 0.1 by adding a column '."
   ]
  },
  {
   "cell_type": "code",
   "execution_count": 21,
   "id": "f2e8f87f",
   "metadata": {},
   "outputs": [
    {
     "data": {
      "image/png": "[encoded data removed]",
      "text/plain": [
       "<Figure size 640x480 with 1 Axes>"
      ]
     },
     "metadata": {},
     "output_type": "display_data"
    }
   ],
   "source": [
    "res_data['inverter_solar_ratio'] = res_data['Inverter Size (kW AC)']/res_data['System Size AC']\n",
    "# plt.hist(exp[exp['indi'] < 0.5][exp['inverter_solar_ratio'] > 0.05]['indi'], bins = 100)\n",
    "plt.hist(res_data['inverter_solar_ratio'][(res_data['Inverter Size (kW AC)']!=-999)&(res_data['inverter_solar_ratio'] < 0.1)&(res_data['inverter_solar_ratio'] >-0.5)], bins = 50)\n",
    "plt.show()"
   ]
  },
  {
   "cell_type": "code",
   "execution_count": 22,
   "id": "48033468",
   "metadata": {},
   "outputs": [],
   "source": [
    "res_data['Inverter_is_0'] = res_data['Inverter Size (kW AC)'].apply(lambda x:x== 0)\n",
    "res_data['abnormally_small_inverter'] = res_data['inverter_solar_ratio'].apply(lambda x:(x > 0)&(x<0.2))"
   ]
  },
  {
   "cell_type": "code",
   "execution_count": 23,
   "id": "4805250d",
   "metadata": {},
   "outputs": [
    {
     "data": {
      "text/plain": [
       "Index(['Application Id', 'Preceding Id', 'Superceding Id',\n",
       "       'Matched CSI Application Number', 'Application Status', 'Utility',\n",
       "       'Service City', 'Service Zip', 'Service County', 'Technology Type',\n",
       "       'System Size DC', 'System Size AC', 'Storage Capacity (kWh)',\n",
       "       'Storage Size (kW AC)', 'Inverter Size (kW AC)', 'Tilt', 'Azimuth',\n",
       "       'Mounting Method', 'Tracking', 'Customer Sector', 'App Received Date',\n",
       "       'App Complete Date', 'App Approved Date', 'Decommissioned Date',\n",
       "       'Self Installer', 'Installer Name', 'Installer Phone', 'Installer City',\n",
       "       'Installer State', 'Installer Zip', 'CSLB Number', 'Third Party Owned',\n",
       "       'Third Party Owned Type', 'Third Party Name', 'Pace Financed',\n",
       "       'Pace Financier', 'Electric Vehicle', 'Electric Vehicle Count',\n",
       "       'System Output Monitoring', 'System Output Reports To Vendor?',\n",
       "       'System Output Monitoring Provider', 'Total System Cost',\n",
       "       'Itc Cost Basis', 'Cost/Watt', 'NEM Tariff', 'Interconnection Program',\n",
       "       'VNEM, NEM-V, NEM-Agg', 'Project is VNEM, NEM-V, NEM-Agg?',\n",
       "       'NEMPV or nonNEMPV', 'VNEM ID', 'Match Somah Application',\n",
       "       'Generator Model 1', 'Generator Manufacturer 1', 'Generator Quantity 1',\n",
       "       'Generator Model 2', 'Generator Manufacturer 2', 'Generator Quantity 2',\n",
       "       'Generator Model 3', 'Generator Manufacturer 3', 'Generator Quantity 3',\n",
       "       'Generator Model 10', 'Generator Manufacturer 10',\n",
       "       'Generator Quantity 10', 'Inverter Model 1', 'Inverter Manufacturer 1',\n",
       "       'Inverter Quantity 1', 'Inverter Model 2', 'Inverter Manufacturer 2',\n",
       "       'Inverter Quantity 2', 'Inverter Model 3', 'Inverter Manufacturer 3',\n",
       "       'Inverter Quantity 3', 'Inverter Manufacturer 4',\n",
       "       'Inverter Manufacturer 5', 'Inverter Manufacturer 6',\n",
       "       'Inverter Manufacturer 7', 'Inverter Manufacturer 8',\n",
       "       'Inverter Manufacturer 9', 'Panel Type 1', 'Panel Type 2',\n",
       "       'Panel Type 3', 'panel_size', 'panel2_size', 'panel3_size',\n",
       "       'Inverter_value_missing', 'inverter_solar_ratio', 'Inverter_is_0',\n",
       "       'abnormally_small_inverter'],\n",
       "      dtype='object')"
      ]
     },
     "execution_count": 23,
     "metadata": {},
     "output_type": "execute_result"
    }
   ],
   "source": [
    "res_data.columns"
   ]
  },
  {
   "cell_type": "markdown",
   "id": "5a4f1c84",
   "metadata": {},
   "source": [
    "Processing Itc data. the column causes leakage, so it won't be used."
   ]
  },
  {
   "cell_type": "code",
   "execution_count": 24,
   "id": "92008381",
   "metadata": {},
   "outputs": [],
   "source": [
    "# res_data['Itc_value_missing'] = res_data['Itc Cost Basis'].isnull().astype(int)\n",
    "# print(res_data.shape)\n",
    "# res_data['Itc Cost Basis'].fillna(-99999, inplace=True)\n",
    "# print(res_data.shape)\n",
    "\n",
    "# plt.hist(res_data['Itc Cost Basis'][(res_data['Itc Cost Basis'] < 100) & (res_data['Itc Cost Basis'] > 0)], bins = 300)\n",
    "# plt.show()\n",
    "\n",
    "# res_data['Itc Cost Basis'].value_counts()\n",
    "\n",
    "# res_data['weird_itc'] = res_data.apply(lambda x:(x['Inverter Size (kW AC)']/x['System Size DC'] < 0.025) & (x['Inverter Size (kW AC)'] != -999),"
   ]
  },
  {
   "cell_type": "markdown",
   "id": "7212465d",
   "metadata": {},
   "source": [
    "Processing energy storage column."
   ]
  },
  {
   "cell_type": "code",
   "execution_count": 25,
   "id": "68dd6ab8",
   "metadata": {},
   "outputs": [],
   "source": [
    "\n",
    "res_data ['Storage Size (kW AC)'] = res_data ['Storage Size (kW AC)'].fillna(0)"
   ]
  },
  {
   "cell_type": "code",
   "execution_count": 26,
   "id": "9828263e",
   "metadata": {},
   "outputs": [
    {
     "data": {
      "text/plain": [
       "(1756128, 88)"
      ]
     },
     "execution_count": 26,
     "metadata": {},
     "output_type": "execute_result"
    }
   ],
   "source": [
    "res_data.shape"
   ]
  },
  {
   "cell_type": "code",
   "execution_count": 27,
   "id": "651ec6e3",
   "metadata": {},
   "outputs": [
    {
     "data": {
      "text/plain": [
       "count    1.756128e+06\n",
       "mean    -3.577149e+02\n",
       "std      4.824202e+02\n",
       "min     -8.149412e+03\n",
       "25%     -9.990000e+02\n",
       "50%      2.800000e+00\n",
       "75%      5.235000e+00\n",
       "max      7.625000e+03\n",
       "Name: Inverter Size (kW AC), dtype: float64"
      ]
     },
     "execution_count": 27,
     "metadata": {},
     "output_type": "execute_result"
    }
   ],
   "source": [
    "res_data['Inverter Size (kW AC)'].describe()"
   ]
  },
  {
   "cell_type": "code",
   "execution_count": 28,
   "id": "0b15a003",
   "metadata": {},
   "outputs": [],
   "source": [
    "exp = res_data[res_data['Total System Cost'] <100]"
   ]
  },
  {
   "cell_type": "markdown",
   "id": "5f9aa844",
   "metadata": {},
   "source": [
    "Standardizing company titles"
   ]
  },
  {
   "cell_type": "code",
   "execution_count": 32,
   "id": "39f968c1",
   "metadata": {},
   "outputs": [
    {
     "data": {
      "text/plain": [
       "(1756128, 88)"
      ]
     },
     "execution_count": 32,
     "metadata": {},
     "output_type": "execute_result"
    }
   ],
   "source": [
    "res_data.shape"
   ]
  },
  {
   "cell_type": "code",
   "execution_count": 33,
   "id": "b89272b3",
   "metadata": {},
   "outputs": [],
   "source": [
    "import pandas as pd\n",
    "\n",
    "# Assuming 'CompetitorStudy' is a DataFrame and it's already loaded in Python\n",
    "\n",
    "# Create a dictionary mapping original strings to their replacements\n",
    "replacements = {\n",
    "    \"california premier solar\": \"CaliforniaPremierSolar\",\n",
    "    \"california solar systems\": \"CaliforniaSolarSystems\",\n",
    "    \"clean energy solutions inc\": \"CleanEnergySolutionsInc\",\n",
    "    \"energy remodeling\": \"EnergyRemodeling\",\n",
    "    \"energyservicepartners\": \"energy service partners\",\n",
    "    \"green convergence\": \"GreenConvergence\",\n",
    "    \"home energy systems\": \"HomeEnergySystems\",\n",
    "    \"new day solar\": \"NewDaySolar\",\n",
    "    \"new power\": \"NewPower\",\n",
    "    \"petersendean\": \"petersen dean\",\n",
    "    \"solar 360\": \"solar360\",\n",
    "    \"solaroptimum inc\": \"SolarOptimum\",\n",
    "    \"solar permit\": \"SolarPermit\",\n",
    "    \"solar service\": \"SolarService\",\n",
    "    \"solar solutions\": \"SolarSolutions\",\n",
    "    \"solar universie\": \"SolarUniverse\",\n",
    "    \"Solar watt\": \"SolarWatt\",\n",
    "    \"solar west\": \"SolarWest\",\n",
    "    \"solar-360\": \"Solar360\",\n",
    "    \"solarcitymh\": \"SolarCity\",\n",
    "    \"south west\": \"SouthWest\",\n",
    "    \"sun bees \": \"SunBees\",\n",
    "    \"sun energy\": \"SunEnergy\",\n",
    "    \"sun solar\": \"SunSolar\",\n",
    "    \"1st light energy inc\": \"Firstlight\",\n",
    "    \"solar optimum\": \"SolarOptimum\",\n",
    "    \"sunrun installation services inc\":\"Sunrun\",\n",
    "    \"sunrun installation services, inc.\":\"Sunun\",\n",
    "    \"solarcity corporation\":\"SolarCity\",\n",
    "    \"tesla energy operations, inc.\":\"Tesla\",\n",
    "    \"tesla energy operations inc\":\"Tesla\",\n",
    "    \"SolarOptimum\":\"SolarOptimum\",\n",
    "    \"n r g \":'nrg',\n",
    "    \"west coast\":'WestCoast',\n",
    "    \"american array\":\"AmericanArray\",\n",
    "    \"quality home\":\"QualityHomes\",\n",
    "    \"quality homes\":'QualityHomes',\n",
    "    \"solar 4 america\":'Solar4America',\n",
    "    \"solar negotiators\":\"SolarNegotiators\",\n",
    "    \"solar savings direct\":\"SolarSavingsDirect\",\n",
    "    \"solar technologies\":'SolarTechnologies',\n",
    "    \"solartech\":'SolarTech',\n",
    "    \"west coast\":'WestCoast',\n",
    "    \"american solar direct\":\"AmericanSolarDirect\",\n",
    "    \"california solar electric co\":\"CaliforniaSolarElectric\",\n",
    "    \"energy concepts\":\"EnergyConcepts\",\n",
    "    \"energy savings pros\":'EnergySavingPros',\n",
    "    \"energy service partners\":\"EnergyServicePartners\",\n",
    "    }\n",
    "\n",
    "res_data['Installer Name'] = res_data['Installer Name'].apply(lambda x: str(x).lower())\n",
    "\n",
    "# Process replacements using a while loop\n",
    "keys = list(replacements.keys())\n",
    "while keys:\n",
    "    key = keys.pop()\n",
    "    res_data['Installer Name'] = res_data['Installer Name'].str.replace(key, replacements[key]).str.lower()\n"
   ]
  },
  {
   "cell_type": "code",
   "execution_count": 34,
   "id": "c6e9618a",
   "metadata": {},
   "outputs": [
    {
     "data": {
      "text/plain": [
       "5                               solarcity\n",
       "18                         solarcity corp\n",
       "23                       occidental power\n",
       "265                                akeena\n",
       "266                  lavezzo construction\n",
       "                       ...               \n",
       "318815                         zing solar\n",
       "318816                          solarcity\n",
       "318817    semper solaris construction inc\n",
       "318818                          solarcity\n",
       "318819                          solarcity\n",
       "Name: Installer Name, Length: 1756128, dtype: object"
      ]
     },
     "execution_count": 34,
     "metadata": {},
     "output_type": "execute_result"
    }
   ],
   "source": [
    "res_data['Installer Name'].str.lower()"
   ]
  },
  {
   "cell_type": "code",
   "execution_count": 35,
   "id": "0c42a60a",
   "metadata": {},
   "outputs": [],
   "source": [
    "series1 = pd.Series(res_data['Installer Name'].value_counts()[:100].index.sort_values())\n",
    "series2 = pd.Series(res_data['Installer Name'].value_counts()[:150].index.sort_values())"
   ]
  },
  {
   "cell_type": "code",
   "execution_count": 38,
   "id": "32d5d102",
   "metadata": {},
   "outputs": [],
   "source": [
    "\n",
    "res_data['Installer Name'] =  res_data['Installer Name'].apply(lambda x: x.split()[0])"
   ]
  },
  {
   "cell_type": "markdown",
   "id": "28a18d77",
   "metadata": {},
   "source": [
    "Top 50 companies will each be categorical variable, the rest will be classified as 'others'."
   ]
  },
  {
   "cell_type": "code",
   "execution_count": 39,
   "id": "3254ad1c",
   "metadata": {},
   "outputs": [],
   "source": [
    "market_value = res_data['Installer Name'].value_counts().sum()\n",
    "\n",
    "top_50_companies = pd.DataFrame(res_data['Installer Name'].value_counts()/market_value)[:100].index\n",
    "\n",
    "res_data['Installer Name'] = res_data['Installer Name'].apply(lambda x: x if x in top_50_companies else 'other') "
   ]
  },
  {
   "cell_type": "code",
   "execution_count": 40,
   "id": "433d34c1",
   "metadata": {},
   "outputs": [
    {
     "data": {
      "text/plain": [
       "(1756128, 88)"
      ]
     },
     "execution_count": 40,
     "metadata": {},
     "output_type": "execute_result"
    }
   ],
   "source": [
    "res_data.shape"
   ]
  },
  {
   "cell_type": "code",
   "execution_count": 41,
   "id": "6026dfbc",
   "metadata": {},
   "outputs": [],
   "source": [
    "reserve = res_data.copy()"
   ]
  },
  {
   "cell_type": "markdown",
   "id": "aefb0b95",
   "metadata": {},
   "source": [
    "### Importing zip code information income info"
   ]
  },
  {
   "cell_type": "code",
   "execution_count": 42,
   "id": "8098d193",
   "metadata": {},
   "outputs": [],
   "source": [
    "zip_info = pd.read_csv('zip2021.csv', dtype = {'zip':str})"
   ]
  },
  {
   "cell_type": "code",
   "execution_count": 43,
   "id": "861be2ef",
   "metadata": {},
   "outputs": [],
   "source": [
    "res_data['Service Zip'] = res_data['Service Zip'].str.replace('.0','')\n",
    "\n",
    "res_data['Installer Zip'] = res_data['Installer Zip'].astype(str).str.replace('.0','')"
   ]
  },
  {
   "cell_type": "code",
   "execution_count": 44,
   "id": "d686abcf",
   "metadata": {},
   "outputs": [],
   "source": [
    "zip_info.columns = zip_info.iloc[0,:]"
   ]
  },
  {
   "cell_type": "code",
   "execution_count": 45,
   "id": "7385bac7",
   "metadata": {},
   "outputs": [],
   "source": [
    "zip_info.drop([0],axis = 0, inplace = True)"
   ]
  },
  {
   "cell_type": "code",
   "execution_count": 46,
   "id": "fd643a12",
   "metadata": {},
   "outputs": [],
   "source": [
    "zip_info['zip'] = zip_info['Geographic Area Name'].apply(lambda x:x[-5:])"
   ]
  },
  {
   "cell_type": "code",
   "execution_count": 47,
   "id": "753c4d21",
   "metadata": {},
   "outputs": [
    {
     "data": {
      "text/plain": [
       "(260,)"
      ]
     },
     "execution_count": 47,
     "metadata": {},
     "output_type": "execute_result"
    }
   ],
   "source": [
    "columns = []\n",
    "for i in zip_info.columns:\n",
    "    if (('median' ) in str(i).lower() or ('mean' ) in str(i).lower() )and 'nonfamily' not in str(i).lower():\n",
    "        columns.append(i)\n",
    "    if ('population') in str(i).lower():\n",
    "        columns.append(i)\n",
    "zip_info.columns.shape"
   ]
  },
  {
   "cell_type": "code",
   "execution_count": 48,
   "id": "fe5753ee",
   "metadata": {},
   "outputs": [],
   "source": [
    "zip_income = zip_info[['zip','Estimate!!Households!!Median income (dollars)','Estimate!!Households!!Mean income (dollars)']]\n",
    "zip_income.columns = ['zip','median_income','mean_income']"
   ]
  },
  {
   "cell_type": "code",
   "execution_count": 49,
   "id": "b7e2a586",
   "metadata": {},
   "outputs": [],
   "source": [
    "zip_income['median_income'] = zip_income['median_income'].str.replace(',','')\n",
    "zip_income['mean_income'] = zip_income['mean_income'].str.replace(',','')\n",
    "\n",
    "zip_income['median_income'] = zip_income['median_income'].str.replace('+','')\n",
    "zip_income['mean_income'] = zip_income['mean_income'].str.replace('+','')\n",
    "\n",
    "zip_income['median_income'] = zip_income['median_income'].str.replace('-','')\n",
    "zip_income['mean_income'] = zip_income['mean_income'].str.replace('-','')"
   ]
  },
  {
   "cell_type": "code",
   "execution_count": 50,
   "id": "555dffc2",
   "metadata": {},
   "outputs": [],
   "source": [
    "zip_income['median_income'] = zip_income['median_income'].apply(lambda x:np.nan if x == '-' or x== 'N' else x)\n",
    "zip_income['mean_income'] = zip_income['mean_income'].apply(lambda x:np.nan if x == '-' or x== 'N' else x)"
   ]
  },
  {
   "cell_type": "code",
   "execution_count": 51,
   "id": "915e7022",
   "metadata": {},
   "outputs": [],
   "source": [
    "zip_income['mean_income'].fillna(-9999, inplace = True)\n",
    "zip_income['median_income'].fillna(-9999, inplace = True)"
   ]
  },
  {
   "cell_type": "code",
   "execution_count": 52,
   "id": "64bbe24c",
   "metadata": {},
   "outputs": [],
   "source": [
    "zip_income['median_income'].replace('',np.nan, inplace = True)\n",
    "zip_income['mean_income'].replace('',np.nan, inplace = True)"
   ]
  },
  {
   "cell_type": "code",
   "execution_count": 53,
   "id": "7ebff2b5",
   "metadata": {},
   "outputs": [],
   "source": [
    "zip_income['median_income'] = zip_income['median_income'].astype(float)\n",
    "zip_income['mean_income'] = zip_income['mean_income'].astype(float)"
   ]
  },
  {
   "cell_type": "code",
   "execution_count": 54,
   "id": "f5e3a43b",
   "metadata": {},
   "outputs": [],
   "source": [
    "res_data = pd.merge(res_data, zip_income, left_on = 'Service Zip', right_on = 'zip', how ='left')"
   ]
  },
  {
   "cell_type": "code",
   "execution_count": 55,
   "id": "1edd90d5",
   "metadata": {},
   "outputs": [],
   "source": [
    "res_data['median_income'].fillna(-999,inplace = True)\n",
    "res_data['mean_income'].fillna(-999,inplace = True)"
   ]
  },
  {
   "cell_type": "code",
   "execution_count": 56,
   "id": "e0b58c28",
   "metadata": {},
   "outputs": [
    {
     "data": {
      "text/plain": [
       "(1756128, 91)"
      ]
     },
     "execution_count": 56,
     "metadata": {},
     "output_type": "execute_result"
    }
   ],
   "source": [
    "res_data.shape"
   ]
  },
  {
   "cell_type": "markdown",
   "id": "fcfd991b",
   "metadata": {},
   "source": [
    "Importing longtitude and latitude"
   ]
  },
  {
   "cell_type": "code",
   "execution_count": 57,
   "id": "e4fdd8b3",
   "metadata": {},
   "outputs": [],
   "source": [
    "zips = pd.read_csv('uszips.csv', dtype = {'zip':str})\n"
   ]
  },
  {
   "cell_type": "code",
   "execution_count": 58,
   "id": "79dc08c6",
   "metadata": {},
   "outputs": [],
   "source": [
    "installer_zips = zips.copy()\n",
    "installer_zips.columns = ['zip', 'installer_lat','installer_lng']"
   ]
  },
  {
   "cell_type": "code",
   "execution_count": 59,
   "id": "76cd234e",
   "metadata": {},
   "outputs": [],
   "source": [
    "res_data = pd.merge(res_data, installer_zips, left_on = 'Installer Zip', right_on = 'zip', how = 'left')"
   ]
  },
  {
   "cell_type": "code",
   "execution_count": 60,
   "id": "9519a2c5",
   "metadata": {},
   "outputs": [],
   "source": [
    "res_data = pd.merge(res_data, zips, left_on = 'Service Zip', right_on = 'zip', how = 'left')"
   ]
  },
  {
   "cell_type": "code",
   "execution_count": 61,
   "id": "aa8c4121",
   "metadata": {},
   "outputs": [
    {
     "data": {
      "text/plain": [
       "Application Id                          0\n",
       "Preceding Id                      1683402\n",
       "Superceding Id                    1656166\n",
       "Matched CSI Application Number    1624530\n",
       "Application Status                      0\n",
       "                                   ...   \n",
       "installer_lat                      171139\n",
       "installer_lng                      171139\n",
       "zip                                 21280\n",
       "lat                                 21280\n",
       "lng                                 21280\n",
       "Length: 97, dtype: int64"
      ]
     },
     "execution_count": 61,
     "metadata": {},
     "output_type": "execute_result"
    }
   ],
   "source": [
    "res_data.isna().sum()"
   ]
  },
  {
   "cell_type": "code",
   "execution_count": 62,
   "id": "0105c8b1",
   "metadata": {},
   "outputs": [],
   "source": [
    "res_data['App Received Date'] = pd.to_datetime(res_data['App Received Date'])\n",
    "\n",
    "# Extract year, month, and day\n",
    "res_data['year'] = res_data['App Received Date'].dt.year\n",
    "res_data['month'] = res_data['App Received Date'].dt.month\n",
    "res_data['day'] = res_data['App Received Date'].dt.day"
   ]
  },
  {
   "cell_type": "code",
   "execution_count": 65,
   "id": "b55a7f14",
   "metadata": {},
   "outputs": [],
   "source": [
    "categorical_features = ['Service County', 'Installer Name','Inverter_value_missing',\n",
    "                                                                'Inverter_is_0',\n",
    "                                                                'abnormally_small_inverter']\n",
    "\n",
    "for col in categorical_features:\n",
    "    res_data[col] = res_data[col].astype('string')"
   ]
  },
  {
   "cell_type": "code",
   "execution_count": 66,
   "id": "7211a573",
   "metadata": {},
   "outputs": [],
   "source": [
    "exp_data = res_data[['System Size AC','Service County',\n",
    "                     'lat', 'lng','Cost/Watt',\n",
    "                     'Inverter Size (kW AC)',\n",
    "                    'Storage Size (kW AC)','Installer Name','year','month',\n",
    "                     'day', 'panel_size','panel2_size','panel3_size',\n",
    "                    'installer_lat','installer_lng','Generator Quantity 1', \n",
    "                     'Generator Quantity 2','Inverter Quantity 1',\n",
    "                     'Generator Quantity 3','Inverter_value_missing', 'Inverter_is_0',\n",
    "                    'abnormally_small_inverter','median_income','mean_income']]\n",
    "\n",
    "#'Total System Cost','Itc Cost Basis','NEM Tariff','Itc_value_missing','weird_itc'"
   ]
  },
  {
   "cell_type": "code",
   "execution_count": 67,
   "id": "cdb5b1e4",
   "metadata": {},
   "outputs": [],
   "source": [
    "selected_features = exp_data.columns[exp_data.columns != 'Cost/Watt']"
   ]
  },
  {
   "cell_type": "code",
   "execution_count": 68,
   "id": "eeb65716",
   "metadata": {},
   "outputs": [],
   "source": [
    "exp_data['Generator Quantity 3'].fillna(0, inplace = True)\n",
    "exp_data['Generator Quantity 2'].fillna(0, inplace = True)\n",
    "exp_data['Generator Quantity 1'].fillna(0, inplace = True)\n",
    "# exp_data['NEM Tariff'].fillna('unknown', inplace = True)\n",
    "exp_data['lat'].fillna(0, inplace = True)\n",
    "exp_data['lng'].fillna(0, inplace = True)\n",
    "exp_data['installer_lat'].fillna(0, inplace = True)\n",
    "exp_data['installer_lng'].fillna(0, inplace = True)\n",
    "# exp_data['Total System Cost'].fillna(-99999, inplace = True)"
   ]
  },
  {
   "cell_type": "code",
   "execution_count": 69,
   "id": "46680863",
   "metadata": {},
   "outputs": [],
   "source": [
    "# exp_data['NEM Tariff'] = exp_data['NEM Tariff'].astype(str)\n",
    "exp_data['Generator Quantity 1'] = exp_data['Generator Quantity 1'].astype(float)\n",
    "exp_data['Generator Quantity 2'] = exp_data['Generator Quantity 2'].astype(float)\n",
    "exp_data['Generator Quantity 3'] = exp_data['Generator Quantity 3'].astype(float)\n",
    "exp_data['Inverter Quantity 1'] = exp_data['Generator Quantity 1'].astype(float)"
   ]
  },
  {
   "cell_type": "code",
   "execution_count": 70,
   "id": "4efffa2b",
   "metadata": {},
   "outputs": [],
   "source": [
    "exp_data.dropna(subset = ['year','month','day'], inplace = True)"
   ]
  },
  {
   "cell_type": "code",
   "execution_count": 71,
   "id": "f9566e8e",
   "metadata": {},
   "outputs": [
    {
     "data": {
      "text/plain": [
       "System Size AC                    0\n",
       "Service County                    0\n",
       "lat                               0\n",
       "lng                               0\n",
       "Cost/Watt                    351144\n",
       "Inverter Size (kW AC)             0\n",
       "Storage Size (kW AC)              0\n",
       "Installer Name                    0\n",
       "year                              0\n",
       "month                             0\n",
       "day                               0\n",
       "panel_size                        0\n",
       "panel2_size                       0\n",
       "panel3_size                       0\n",
       "installer_lat                     0\n",
       "installer_lng                     0\n",
       "Generator Quantity 1              0\n",
       "Generator Quantity 2              0\n",
       "Inverter Quantity 1               0\n",
       "Generator Quantity 3              0\n",
       "Inverter_value_missing            0\n",
       "Inverter_is_0                     0\n",
       "abnormally_small_inverter         0\n",
       "median_income                     0\n",
       "mean_income                       0\n",
       "dtype: int64"
      ]
     },
     "execution_count": 71,
     "metadata": {},
     "output_type": "execute_result"
    }
   ],
   "source": [
    "exp_data.isna().sum()"
   ]
  },
  {
   "cell_type": "code",
   "execution_count": 72,
   "id": "0f477aa0",
   "metadata": {},
   "outputs": [],
   "source": [
    "y_column = 'Cost/Watt'"
   ]
  },
  {
   "cell_type": "code",
   "execution_count": 73,
   "id": "0c588e90",
   "metadata": {},
   "outputs": [],
   "source": [
    "categorical_features = ['Service County', 'Installer Name','Inverter_value_missing',\n",
    "                                                                 'Inverter_is_0',\n",
    "                                                                'abnormally_small_inverter']\n",
    "\n",
    "for col in categorical_features:\n",
    "    exp_data[col] = exp_data[col].astype('category')"
   ]
  },
  {
   "cell_type": "code",
   "execution_count": 74,
   "id": "909439cf",
   "metadata": {},
   "outputs": [],
   "source": [
    "to_be_filled = exp_data[exp_data[y_column ].isna()]"
   ]
  },
  {
   "cell_type": "code",
   "execution_count": 75,
   "id": "ed56727a",
   "metadata": {},
   "outputs": [],
   "source": [
    "exp_data = exp_data.dropna()"
   ]
  },
  {
   "cell_type": "code",
   "execution_count": 76,
   "id": "8bbe9139",
   "metadata": {},
   "outputs": [
    {
     "name": "stdout",
     "output_type": "stream",
     "text": [
      "[LightGBM] [Warning] lambda_l2 is set=1, reg_lambda=0.0 will be ignored. Current value: lambda_l2=1\n",
      "Training model for 5.0% quantile\n",
      "Training model for 10.0% quantile\n",
      "Training model for 15.0% quantile\n",
      "Training model for 20.0% quantile\n",
      "Training model for 25.0% quantile\n",
      "Training model for 30.0% quantile\n",
      "Training model for 35.0% quantile\n",
      "Training model for 40.0% quantile\n",
      "Training model for 44.99999999999999% quantile\n",
      "Training model for 49.99999999999999% quantile\n",
      "Training model for 54.99999999999999% quantile\n",
      "Training model for 60.0% quantile\n",
      "Training model for 65.0% quantile\n",
      "Training model for 70.0% quantile\n",
      "Training model for 75.0% quantile\n",
      "Training model for 80.0% quantile\n",
      "Training model for 85.0% quantile\n",
      "Training model for 90.0% quantile\n",
      "Training model for 95.0% quantile\n"
     ]
    }
   ],
   "source": [
    "import lightgbm as lgb\n",
    "from sklearn.model_selection import train_test_split\n",
    "\n",
    "# Assuming exp_data is defined and has the required columns\n",
    "y = exp_data[y_column]\n",
    "X = exp_data.drop([y_column], axis=1)\n",
    "\n",
    "# Make sure categorical_features is defined correctly\n",
    "categorical_features = ['Service County', 'Installer Name','Inverter_value_missing',\n",
    "                                                                'Itc_value_missing','weird_itc', 'Inverter_is_0',\n",
    "                                                                'abnormally_small_inverter']\n",
    "\n",
    "X_train, X_test, y_train, y_test = train_test_split(X, y, test_size=0.1)\n",
    "\n",
    "\n",
    "params = {\n",
    "    'metric': 'rmse',\n",
    "    'boosting_type': 'gbdt',\n",
    "    'learning_rate': 0.05,\n",
    "    'n_estimators': 1000,\n",
    "    'lambda_l2': 1,\n",
    "    'categorical_feature': categorical_features\n",
    "}\n",
    "\n",
    "mean_model = lgb.LGBMRegressor(**params)\n",
    "mean_model.fit(X_train, y_train)\n",
    "\n",
    "quantiles = np.linspace(0.05, 0.95, 19)\n",
    "models = {}\n",
    "\n",
    "for q in quantiles:\n",
    "    print(f\"Training model for {q * 100}% quantile\")\n",
    "    params['objective'] = 'quantile'\n",
    "    params['alpha'] = q\n",
    "    model = lgb.LGBMRegressor(**params)\n",
    "    model.fit(X_train, y_train)\n",
    "    models[f\"quantile_{int(q * 100)}\"] = model\n",
    "\n",
    "    "
   ]
  },
  {
   "cell_type": "code",
   "execution_count": 77,
   "id": "7d038a0e",
   "metadata": {},
   "outputs": [],
   "source": [
    "quantiles = np.linspace(0.05, 0.95, 19)"
   ]
  },
  {
   "cell_type": "code",
   "execution_count": 78,
   "id": "38583a71",
   "metadata": {},
   "outputs": [
    {
     "name": "stdout",
     "output_type": "stream",
     "text": [
      "Training model for 2.0% quantile\n",
      "Training model for 98.0% quantile\n"
     ]
    }
   ],
   "source": [
    "extra_two_models = [0.02, 0.98]\n",
    "for q in extra_two_models:\n",
    "    print(f\"Training model for {q * 100}% quantile\")\n",
    "    params['objective'] = 'quantile'\n",
    "    params['alpha'] = q\n",
    "    model = lgb.LGBMRegressor(**params)\n",
    "    model.fit(X_train, y_train)\n",
    "    models[f\"quantile_{int(q * 100)}\"] = model\n"
   ]
  },
  {
   "cell_type": "code",
   "execution_count": 79,
   "id": "2eb06a7f",
   "metadata": {},
   "outputs": [],
   "source": [
    "y_pred_mean = mean_model.predict(X_test)"
   ]
  },
  {
   "cell_type": "code",
   "execution_count": 80,
   "id": "e165b881",
   "metadata": {},
   "outputs": [],
   "source": [
    "feature_importance = pd.DataFrame({'columns': X.columns, 'importance':mean_model.feature_importances_}).sort_values('importance', ascending = False)[:]"
   ]
  },
  {
   "cell_type": "code",
   "execution_count": 81,
   "id": "37a89668",
   "metadata": {},
   "outputs": [
    {
     "name": "stdout",
     "output_type": "stream",
     "text": [
      "r2: 0.4021499934716626\n"
     ]
    }
   ],
   "source": [
    "from sklearn.metrics import r2_score\n",
    "r2 = r2_score(y_test, y_pred_mean)\n",
    "print(f\"r2: {r2}\")"
   ]
  },
  {
   "cell_type": "code",
   "execution_count": 82,
   "id": "124d7826",
   "metadata": {},
   "outputs": [
    {
     "data": {
      "text/html": [
       "<div>\n",
       "<style scoped>\n",
       "    .dataframe tbody tr th:only-of-type {\n",
       "        vertical-align: middle;\n",
       "    }\n",
       "\n",
       "    .dataframe tbody tr th {\n",
       "        vertical-align: top;\n",
       "    }\n",
       "\n",
       "    .dataframe thead th {\n",
       "        text-align: right;\n",
       "    }\n",
       "</style>\n",
       "<table border=\"1\" class=\"dataframe\">\n",
       "  <thead>\n",
       "    <tr style=\"text-align: right;\">\n",
       "      <th></th>\n",
       "      <th>columns</th>\n",
       "      <th>importance</th>\n",
       "    </tr>\n",
       "  </thead>\n",
       "  <tbody>\n",
       "    <tr>\n",
       "      <th>6</th>\n",
       "      <td>Installer Name</td>\n",
       "      <td>5890</td>\n",
       "    </tr>\n",
       "    <tr>\n",
       "      <th>0</th>\n",
       "      <td>System Size AC</td>\n",
       "      <td>3200</td>\n",
       "    </tr>\n",
       "    <tr>\n",
       "      <th>10</th>\n",
       "      <td>panel_size</td>\n",
       "      <td>2528</td>\n",
       "    </tr>\n",
       "    <tr>\n",
       "      <th>1</th>\n",
       "      <td>Service County</td>\n",
       "      <td>2474</td>\n",
       "    </tr>\n",
       "    <tr>\n",
       "      <th>14</th>\n",
       "      <td>installer_lng</td>\n",
       "      <td>2078</td>\n",
       "    </tr>\n",
       "    <tr>\n",
       "      <th>13</th>\n",
       "      <td>installer_lat</td>\n",
       "      <td>2065</td>\n",
       "    </tr>\n",
       "    <tr>\n",
       "      <th>7</th>\n",
       "      <td>year</td>\n",
       "      <td>2052</td>\n",
       "    </tr>\n",
       "    <tr>\n",
       "      <th>15</th>\n",
       "      <td>Generator Quantity 1</td>\n",
       "      <td>1589</td>\n",
       "    </tr>\n",
       "    <tr>\n",
       "      <th>4</th>\n",
       "      <td>Inverter Size (kW AC)</td>\n",
       "      <td>1440</td>\n",
       "    </tr>\n",
       "    <tr>\n",
       "      <th>8</th>\n",
       "      <td>month</td>\n",
       "      <td>912</td>\n",
       "    </tr>\n",
       "    <tr>\n",
       "      <th>23</th>\n",
       "      <td>mean_income</td>\n",
       "      <td>783</td>\n",
       "    </tr>\n",
       "    <tr>\n",
       "      <th>2</th>\n",
       "      <td>lat</td>\n",
       "      <td>771</td>\n",
       "    </tr>\n",
       "    <tr>\n",
       "      <th>3</th>\n",
       "      <td>lng</td>\n",
       "      <td>741</td>\n",
       "    </tr>\n",
       "    <tr>\n",
       "      <th>5</th>\n",
       "      <td>Storage Size (kW AC)</td>\n",
       "      <td>717</td>\n",
       "    </tr>\n",
       "    <tr>\n",
       "      <th>16</th>\n",
       "      <td>Generator Quantity 2</td>\n",
       "      <td>626</td>\n",
       "    </tr>\n",
       "    <tr>\n",
       "      <th>22</th>\n",
       "      <td>median_income</td>\n",
       "      <td>596</td>\n",
       "    </tr>\n",
       "    <tr>\n",
       "      <th>9</th>\n",
       "      <td>day</td>\n",
       "      <td>546</td>\n",
       "    </tr>\n",
       "    <tr>\n",
       "      <th>11</th>\n",
       "      <td>panel2_size</td>\n",
       "      <td>478</td>\n",
       "    </tr>\n",
       "    <tr>\n",
       "      <th>18</th>\n",
       "      <td>Generator Quantity 3</td>\n",
       "      <td>233</td>\n",
       "    </tr>\n",
       "    <tr>\n",
       "      <th>12</th>\n",
       "      <td>panel3_size</td>\n",
       "      <td>137</td>\n",
       "    </tr>\n",
       "    <tr>\n",
       "      <th>21</th>\n",
       "      <td>abnormally_small_inverter</td>\n",
       "      <td>78</td>\n",
       "    </tr>\n",
       "    <tr>\n",
       "      <th>20</th>\n",
       "      <td>Inverter_is_0</td>\n",
       "      <td>66</td>\n",
       "    </tr>\n",
       "    <tr>\n",
       "      <th>17</th>\n",
       "      <td>Inverter Quantity 1</td>\n",
       "      <td>0</td>\n",
       "    </tr>\n",
       "    <tr>\n",
       "      <th>19</th>\n",
       "      <td>Inverter_value_missing</td>\n",
       "      <td>0</td>\n",
       "    </tr>\n",
       "  </tbody>\n",
       "</table>\n",
       "</div>"
      ],
      "text/plain": [
       "                      columns  importance\n",
       "6              Installer Name        5890\n",
       "0              System Size AC        3200\n",
       "10                 panel_size        2528\n",
       "1              Service County        2474\n",
       "14              installer_lng        2078\n",
       "13              installer_lat        2065\n",
       "7                        year        2052\n",
       "15       Generator Quantity 1        1589\n",
       "4       Inverter Size (kW AC)        1440\n",
       "8                       month         912\n",
       "23                mean_income         783\n",
       "2                         lat         771\n",
       "3                         lng         741\n",
       "5        Storage Size (kW AC)         717\n",
       "16       Generator Quantity 2         626\n",
       "22              median_income         596\n",
       "9                         day         546\n",
       "11                panel2_size         478\n",
       "18       Generator Quantity 3         233\n",
       "12                panel3_size         137\n",
       "21  abnormally_small_inverter          78\n",
       "20              Inverter_is_0          66\n",
       "17        Inverter Quantity 1           0\n",
       "19     Inverter_value_missing           0"
      ]
     },
     "execution_count": 82,
     "metadata": {},
     "output_type": "execute_result"
    }
   ],
   "source": [
    "feature_importance"
   ]
  },
  {
   "cell_type": "code",
   "execution_count": 83,
   "id": "f0d70923",
   "metadata": {},
   "outputs": [],
   "source": [
    "X = exp_data.drop(['Cost/Watt'], axis = 1)\n",
    "feature_importance = pd.DataFrame({'columns': X.columns, 'importance':mean_model.feature_importances_}).sort_values('importance', ascending = False)[:]"
   ]
  },
  {
   "cell_type": "code",
   "execution_count": 84,
   "id": "d4265a2e",
   "metadata": {},
   "outputs": [],
   "source": [
    "to_be_filled.drop(['Cost/Watt'], axis = 1, inplace = True)"
   ]
  },
  {
   "cell_type": "code",
   "execution_count": 85,
   "id": "fb7ab778",
   "metadata": {},
   "outputs": [],
   "source": [
    "to_be_filled['Cost/Watt'] = mean_model.predict(to_be_filled)"
   ]
  },
  {
   "cell_type": "code",
   "execution_count": 86,
   "id": "1c040047",
   "metadata": {},
   "outputs": [],
   "source": [
    "new_df = pd.concat([exp_data, to_be_filled], axis=0)"
   ]
  },
  {
   "cell_type": "code",
   "execution_count": 87,
   "id": "933afd14",
   "metadata": {},
   "outputs": [],
   "source": [
    "# missing_cost_per_watt = to_be_filled['Cost/Watt'] \n",
    "\n",
    "# # Fill the DataFrame's x-axis (columns) with the Series values according to the index\n",
    "# # for idx in missing_cost_per_watt.index:\n",
    "# #     res_data['Cost/Watt'][idx] = missing_cost_per_watt[idx]\n",
    "# for idx in missing_cost_per_watt.index:\n",
    "#     res_data.at[idx, 'Cost/Watt'] = missing_cost_per_watt[idx]\n"
   ]
  },
  {
   "cell_type": "code",
   "execution_count": 88,
   "id": "d430c14c",
   "metadata": {},
   "outputs": [],
   "source": [
    "df = new_df[['System Size AC']]\n",
    "scaler = StandardScaler()\n",
    "\n",
    "# Fit and transform the dataframe\n",
    "df_standardized = pd.DataFrame(scaler.fit_transform(df), columns=df.columns)\n"
   ]
  },
  {
   "cell_type": "code",
   "execution_count": 89,
   "id": "2639596a",
   "metadata": {},
   "outputs": [
    {
     "data": {
      "image/png": "[encoded data removed]",
      "text/plain": [
       "<Figure size 1000x600 with 1 Axes>"
      ]
     },
     "metadata": {},
     "output_type": "display_data"
    }
   ],
   "source": [
    "df = new_df[['System Size AC']]\n",
    "import warnings\n",
    "warnings.filterwarnings('ignore')\n",
    "\n",
    "\n",
    "max_k = 20\n",
    "sum_of_squared_distances = []\n",
    "\n",
    "for k in range(1, max_k+1):\n",
    "    kmeans = KMeans(n_clusters=k, random_state=0).fit(df_standardized )\n",
    "    sum_of_squared_distances.append(kmeans.inertia_)  \n",
    "    \n",
    "\n",
    "plt.figure(figsize=(10,6))\n",
    "plt.plot(range(1, max_k+1), sum_of_squared_distances, marker='o', linestyle='--')\n",
    "plt.title('Elbow Plot')\n",
    "plt.xlabel('Number of Clusters (k)')\n",
    "plt.ylabel('Sum of Squared Distances')\n",
    "plt.xticks(range(1, max_k+1))\n",
    "plt.grid(True)\n",
    "plt.show()\n",
    "    "
   ]
  },
  {
   "cell_type": "code",
   "execution_count": 90,
   "id": "56139d32",
   "metadata": {},
   "outputs": [],
   "source": [
    "kmeans = KMeans(n_clusters=6, random_state=0).fit(df_standardized)\n",
    "kWh_cluster_labels = kmeans.labels_"
   ]
  },
  {
   "cell_type": "code",
   "execution_count": 91,
   "id": "d9ad541f",
   "metadata": {},
   "outputs": [],
   "source": [
    "new_df = new_df.dropna(subset = ['System Size AC'])"
   ]
  },
  {
   "cell_type": "code",
   "execution_count": 92,
   "id": "5d146f2b",
   "metadata": {},
   "outputs": [],
   "source": [
    "new_df['customer_type'] = kWh_cluster_labels"
   ]
  },
  {
   "cell_type": "code",
   "execution_count": 93,
   "id": "c748412b",
   "metadata": {},
   "outputs": [
    {
     "name": "stdout",
     "output_type": "stream",
     "text": [
      "   System Size AC\n",
      "0        3.814380\n",
      "1        7.508238\n",
      "2      277.698194\n",
      "3       93.104172\n",
      "4       13.631884\n",
      "5      642.167740\n",
      "0    993986\n",
      "1    639905\n",
      "4    121555\n",
      "3       539\n",
      "2        97\n",
      "5        30\n",
      "Name: count, dtype: int64\n"
     ]
    }
   ],
   "source": [
    "\n",
    "\n",
    "customer_segments = pd.DataFrame(kmeans.cluster_centers_)\n",
    "\n",
    "customer_segments.columns = ['System Size AC']\n",
    "\n",
    "customer_segments = pd.DataFrame(scaler.inverse_transform(customer_segments), columns=customer_segments.columns)\n",
    "\n",
    "print(customer_segments)\n",
    "print(pd.Series(kmeans.labels_).value_counts())\n",
    "\n"
   ]
  },
  {
   "cell_type": "code",
   "execution_count": 94,
   "id": "9aa6d5f1",
   "metadata": {},
   "outputs": [],
   "source": [
    "new_df['App Received Date'] = pd.to_datetime(new_df[['year', 'month', 'day']])"
   ]
  },
  {
   "cell_type": "code",
   "execution_count": 95,
   "id": "fb84b92e",
   "metadata": {},
   "outputs": [],
   "source": [
    "\n",
    "sample_data = new_df[pd.to_datetime(new_df['App Received Date']) > '2023-1-01']\n",
    "\n",
    "to_be_guessed = sample_data[sample_data['Installer Name'] == 'solarmax'].sample(20)"
   ]
  },
  {
   "cell_type": "code",
   "execution_count": 96,
   "id": "a72a6b4d",
   "metadata": {},
   "outputs": [],
   "source": [
    "import pandas as pd\n",
    "from geopy.distance import geodesic\n",
    "\n",
    "\n"
   ]
  },
  {
   "cell_type": "markdown",
   "id": "7885638c",
   "metadata": {},
   "source": [
    "Now that we have trained the machine learning models (quantile regressions), we can generated a distribution of price for every prediction, so that for every price we choose we know how likely our price is lower than a competitors'."
   ]
  },
  {
   "cell_type": "code",
   "execution_count": 97,
   "id": "4ccfd8bd",
   "metadata": {},
   "outputs": [],
   "source": [
    "def generate_distribution(series):\n",
    "    values = list(series.round(2)) + [10000]\n",
    "#     print(values)\n",
    "    values = [values[i] if values[i-1] > values[i] else values[i-1] for i in range(1,len(values))]  \n",
    "\n",
    "    generated_values = []\n",
    "    generated_quantiles = []\n",
    "\n",
    "# Iterate through each pair of neighboring values\n",
    "    for i in range(len(values)-1):\n",
    "        # Generate 100 values between each pair (excluding the endpoint to avoid duplication)\n",
    "        num_computation = int(round((values[i + 1]-values[i])/0.01,0))\n",
    "        if num_computation < 0:\n",
    "            continue\n",
    "#         print(num_computation)\n",
    "        interval_values = np.linspace(values[i], values[i + 1], num = num_computation, endpoint=False)\n",
    "        interval_quantile = np.linspace(quantiles[i],quantiles[i + 1], num=num_computation, endpoint=False)\n",
    "        generated_values.extend(interval_values)\n",
    "        generated_quantiles.extend(interval_quantile)\n",
    "\n",
    "# Add the last value from the original array\n",
    "    generated_values.append(values[-1])\n",
    "    generated_quantiles.append(quantiles[-1])\n",
    "\n",
    "# Convert the list to a NumPy array\n",
    "    generated_values = np.array(generated_values).round(2)\n",
    "    generated_quantiles = np.array(generated_quantiles)/100\n",
    "    return generated_values, generated_quantiles\n"
   ]
  },
  {
   "cell_type": "code",
   "execution_count": 98,
   "id": "f019ca38",
   "metadata": {},
   "outputs": [],
   "source": [
    "def is_within_radius(lat, long, x_latitude, x_longitude, radius= 2):\n",
    "    \"\"\"Check if a point is within a given radius (in miles) from point X\"\"\"\n",
    "    distance = geodesic((x_latitude, x_longitude), (lat, long)).miles\n",
    "    return distance <= radius\n"
   ]
  },
  {
   "cell_type": "code",
   "execution_count": 99,
   "id": "07c51f5c",
   "metadata": {},
   "outputs": [],
   "source": [
    "def find_competitors(i,new_df):\n",
    "    x_latitude = i['lat']  # replace with the actual latitude of point X\n",
    "    x_longitude = i['lng']  # replace with the actual longitude of point X\n",
    "    customer_type = i['customer_type']\n",
    "    date = pd.to_datetime(i['App Received Date'])\n",
    "    recent_date = date - pd.Timedelta(days=120)\n",
    "    recent_solar = new_df[(new_df['App Received Date'] > recent_date) & (new_df['App Received Date'] < date)].dropna(subset = ['lat','lng'])\n",
    "    recent_relevant_solar = recent_solar[recent_solar['customer_type'] == customer_type]\n",
    "    at_that_location = recent_relevant_solar.apply(lambda row: is_within_radius(row['lat'], row['lng'], x_latitude, x_longitude), axis = 1)\n",
    "    recent_nearby_relevant_solar = recent_relevant_solar[at_that_location ]\n",
    "    print(recent_nearby_relevant_solar[['Installer Name','installer_lat','installer_lng']].value_counts()[:5])\n",
    "    top_competitors = recent_nearby_relevant_solar[['Installer Name','installer_lat','installer_lng']].value_counts()[:3].index\n",
    "        \n",
    "    return top_competitors"
   ]
  },
  {
   "cell_type": "code",
   "execution_count": 100,
   "id": "007a12c6",
   "metadata": {},
   "outputs": [],
   "source": [
    "def compute_compet_info(quantiles, top_competitors, one_row_df):\n",
    "    \n",
    "    quantiles = (np.linspace(0.05, 0.95, 19)*100).astype(int)\n",
    "    quantilte_df = pd.DataFrame(columns = quantiles)\n",
    "    small_df = one_row_df.copy()\n",
    "#     print(small_df.columns)\n",
    "    small_df.drop(['customer_type', 'App Received Date', 'Cost/Watt'], axis = 1, inplace = True)\n",
    "    for competitor in top_competitors:\n",
    "        \n",
    "#         print(competitor)\n",
    "        small_df['Installer Name'] = competitor[0]\n",
    "        small_df['installer_lat'] = competitor[1]\n",
    "        small_df['installer_lng'] = competitor[2]\n",
    "        small_df['Installer Name'] = small_df['Installer Name'].astype('category')\n",
    "\n",
    "        lista = []\n",
    "\n",
    "        for q in quantiles:\n",
    "\n",
    "            lista.append(models[f\"quantile_{q}\"].predict(small_df))\n",
    "#             \n",
    "        lista = np.array(lista).flatten()\n",
    "        y = pd.Series(lista)\n",
    "        y.index = quantiles  \n",
    "        index = str(competitor)\n",
    "        quantilte_df.loc[index] = y \n",
    "    return quantilte_df"
   ]
  },
  {
   "cell_type": "markdown",
   "id": "32242c99",
   "metadata": {},
   "source": [
    "Example of a cumulative density distribution generated by the machine learning models"
   ]
  },
  {
   "cell_type": "code",
   "execution_count": 103,
   "id": "32f8a4bd",
   "metadata": {},
   "outputs": [],
   "source": [
    "def compute_optimal_price(exp2, cost = 2.5, graph = True): \n",
    "    company_distribution = {}\n",
    "    for index, i in exp2.iterrows():\n",
    "        generated_values, generated_quantiles = generate_distribution(i)\n",
    "        company_distribution[index] = (generated_values, generated_quantiles)\n",
    "            \n",
    "\n",
    "#         plt.figure(figsize=(8, 6))\n",
    "#         plt.plot(generated_values, generated_quantiles, marker='o')\n",
    "#         plt.xlabel('Quantiles')\n",
    "#         plt.ylabel('Cumulative Density')\n",
    "#         plt.title('Cumulative Density Distribution')\n",
    "#         plt.grid(True)\n",
    "#         plt.show()\n",
    "    \n",
    "    price_mins = []\n",
    "    price_maxs = []\n",
    "    for i in company_distribution:\n",
    "        company_prices = company_distribution[i][0]\n",
    "        price_mins.append(min(company_prices))\n",
    "        price_maxs.append(max(company_prices))\n",
    "    price_range = (max(price_mins), min(price_maxs))\n",
    "#     print(price_range)\n",
    "    price_range = np.linspace(price_range[0], price_range[1], int((price_range[1]-price_range[0])/0.01) ).round(2)\n",
    "#     print(price_range.mean())\n",
    "    profits = []\n",
    "#     print(revs)\n",
    "    for i in price_range:\n",
    "        profit = i-cost\n",
    "        for j in company_distribution:\n",
    "            prob = pd.Series(company_distribution[j][1], index = company_distribution[j][0])[i]\n",
    "            if isinstance(prob, pd.Series):\n",
    "                prob = prob.iloc[0]\n",
    "            profit = profit * (1-prob)\n",
    "        profits.append(profit)\n",
    "    price_and_return = pd.Series(profits, index = price_range)\n",
    "    if graph == True:\n",
    "        plt.bar(x = range(len(profits)), height = profits)\n",
    "        plt.show()\n",
    "    return price_and_return.idxmax()"
   ]
  },
  {
   "cell_type": "code",
   "execution_count": null,
   "id": "79144d04",
   "metadata": {},
   "outputs": [],
   "source": [
    "def compute_optimal_price2(exp2, cost = 2.5, graph = True): \n",
    "    company_distribution = {}\n",
    "    for index, i in exp2.iterrows():\n",
    "        generated_values, generated_quantiles = generate_distribution(i)\n",
    "        company_distribution[index] = (generated_values, generated_quantiles)\n",
    "    \n",
    "    price_mins = []\n",
    "    price_maxs = []\n",
    "    for i in company_distribution:\n",
    "        company_prices = company_distribution[i][0]\n",
    "        price_mins.append(min(company_prices))\n",
    "        price_maxs.append(max(company_prices))\n",
    "    price_range = (max(price_mins), min(price_maxs))\n",
    "#     print(price_range)\n",
    "    price_range = np.linspace(price_range[0], price_range[1], int((price_range[1]-price_range[0])/0.01) ).round(2)\n",
    "    print(price_range)\n",
    "#     print(price_range.mean())\n",
    "#     profits = []\n",
    "# #     print(revs)\n",
    "#     for i in price_range:\n",
    "#         profit = i-cost\n",
    "#         for j in company_distribution:\n",
    "#             prob = pd.Series(company_distribution[j][1], index = company_distribution[j][0])[i]\n",
    "#             if isinstance(prob, pd.Series):\n",
    "#                 prob = prob.iloc[0]\n",
    "#             profit = profit * (1-prob)\n",
    "#         profits.append(profit)\n",
    "#     price_and_return = pd.Series(profits, index = price_range)\n",
    "#     if graph == True:\n",
    "#         plt.bar(x = range(len(profits)), height = profits)\n",
    "#         plt.show()\n",
    "#     return price_and_return.idxmax()"
   ]
  },
  {
   "cell_type": "code",
   "execution_count": null,
   "id": "bcf7e6f8",
   "metadata": {},
   "outputs": [],
   "source": [
    "to_be_guessed.columns"
   ]
  },
  {
   "cell_type": "code",
   "execution_count": 108,
   "id": "40ffda45",
   "metadata": {},
   "outputs": [
    {
     "name": "stdout",
     "output_type": "stream",
     "text": [
      "Installer Name  installer_lat  installer_lng\n",
      "sunpower        37.92074       -122.34204       28\n",
      "tesla           37.50653       -121.96361       25\n",
      "solaroptimum    34.18221       -118.26761       20\n",
      "sunrun          40.49865       -74.53284        15\n",
      "other           34.08143       -117.73868        9\n",
      "Name: count, dtype: int64\n",
      "Installer Name  installer_lat  installer_lng\n",
      "sunpower        37.92074       -122.34204       2\n",
      "sunrun          40.49865       -74.53284        2\n",
      "bright          33.64786       -117.92050       1\n",
      "clean           34.15919       -118.08688       1\n",
      "infinity        38.81982       -121.27772       1\n",
      "Name: count, dtype: int64\n",
      "Installer Name  installer_lat  installer_lng\n",
      "sunrun          40.49865       -74.53284        8\n",
      "energy          33.83497       -118.29291       8\n",
      "tesla           37.50653       -121.96361       6\n",
      "other           32.80347       -79.94561        5\n",
      "a               34.28668       -118.43479       4\n",
      "Name: count, dtype: int64\n",
      "Installer Name  installer_lat  installer_lng\n",
      "sunrun          40.49865       -74.53284        17\n",
      "current         33.73110       -117.03590        8\n",
      "other           34.06738       -117.17482        4\n",
      "semper          32.79557       -116.96970        3\n",
      "energy          33.83497       -118.29291        2\n",
      "Name: count, dtype: int64\n",
      "Installer Name  installer_lat  installer_lng\n",
      "sunrun          40.49865       -74.53284        19\n",
      "bright          42.19689       -71.84549         8\n",
      "energy          33.83497       -118.29291        8\n",
      "powur           32.96797       -117.24879        7\n",
      "other           34.10023       -117.58110        7\n",
      "Name: count, dtype: int64\n",
      "Installer Name  installer_lat  installer_lng\n",
      "sunrun          40.49865       -74.53284        40\n",
      "milholland      32.79557       -116.96970       26\n",
      "v3              38.67694       -121.05755       24\n",
      "freedom         33.48391       -117.22075       18\n",
      "solgen          41.77197       -111.81128       16\n",
      "Name: count, dtype: int64\n",
      "Installer Name  installer_lat  installer_lng\n",
      "sunrun          40.49865       -74.53284        41\n",
      "tesla           37.50653       -121.96361       22\n",
      "kota            34.17339       -118.94795       14\n",
      "sunpower        37.92074       -122.34204       13\n",
      "solaroptimum    34.18221       -118.26761       12\n",
      "Name: count, dtype: int64\n",
      "Installer Name  installer_lat  installer_lng\n",
      "bright          42.19689       -71.84549        15\n",
      "sunnova         29.73438       -95.43301        15\n",
      "sunrun          40.49865       -74.53284        11\n",
      "freedom         33.48391       -117.22075        6\n",
      "semper          32.79557       -116.96970        3\n",
      "Name: count, dtype: int64\n",
      "Installer Name  installer_lat  installer_lng\n",
      "sunrun          40.49865       -74.53284        65\n",
      "tesla           37.50653       -121.96361       23\n",
      "bright          42.19689       -71.84549        21\n",
      "v3              38.67694       -121.05755       17\n",
      "freedom         33.48391       -117.22075       13\n",
      "Name: count, dtype: int64\n",
      "Installer Name  installer_lat  installer_lng\n",
      "freedom         33.48391       -117.22075       4\n",
      "solarmax        33.97464       -117.32234       2\n",
      "sunpower        37.92074       -122.34204       2\n",
      "a               34.28668       -118.43479       1\n",
      "bright          42.19689       -71.84549        1\n",
      "Name: count, dtype: int64\n",
      "Installer Name  installer_lat  installer_lng\n",
      "sunrun          40.49865       -74.53284        41\n",
      "current         33.73110       -117.03590       16\n",
      "milholland      32.79557       -116.96970       12\n",
      "bright          42.19689       -71.84549         7\n",
      "semper          32.79557       -116.96970        6\n",
      "Name: count, dtype: int64\n",
      "Installer Name  installer_lat  installer_lng\n",
      "sunrun          40.49865       -74.53284        15\n",
      "sunpower        37.92074       -122.34204        9\n",
      "tesla           37.50653       -121.96361        8\n",
      "powur           32.96797       -117.24879        3\n",
      "freedom         33.48391       -117.22075        3\n",
      "Name: count, dtype: int64\n",
      "Installer Name  installer_lat  installer_lng\n",
      "sunrun          40.49865       -74.53284        59\n",
      "tesla           37.50653       -121.96361       37\n",
      "sunpower        37.92074       -122.34204       23\n",
      "solaroptimum    34.18221       -118.26761       10\n",
      "better          33.75500       -117.81488        8\n",
      "Name: count, dtype: int64\n",
      "Installer Name  installer_lat  installer_lng\n",
      "other           33.63386       -117.37949       15\n",
      "sunrun          40.49865       -74.53284         7\n",
      "other           33.92620       -117.54913        4\n",
      "solarmax        33.97464       -117.32234        4\n",
      "blalock         33.53579       -117.35098        4\n",
      "Name: count, dtype: int64\n",
      "Installer Name  installer_lat  installer_lng\n",
      "rec             38.24624       -122.56627       25\n",
      "sunpower        30.40270       -97.76093        12\n",
      "other           33.83884       -117.87054        6\n",
      "                33.66729       -117.73362        5\n",
      "better          33.75500       -117.81488        4\n",
      "Name: count, dtype: int64\n",
      "Installer Name  installer_lat  installer_lng\n",
      "tesla           37.50653       -121.96361       9\n",
      "sunrun          40.49865       -74.53284        8\n",
      "sunpower        37.92074       -122.34204       5\n",
      "bright          42.19689       -71.84549        3\n",
      "powur           32.96797       -117.24879       3\n",
      "Name: count, dtype: int64\n",
      "Installer Name  installer_lat  installer_lng\n",
      "sunrun          40.49865       -74.53284        29\n",
      "v3              38.67694       -121.05755        7\n",
      "freedom         33.48391       -117.22075        7\n",
      "other           34.10023       -117.58110        5\n",
      "lift            40.41209       -111.87377        4\n",
      "Name: count, dtype: int64\n",
      "Installer Name  installer_lat  installer_lng\n",
      "sunrun          40.49865       -74.53284        13\n",
      "tesla           37.50653       -121.96361        7\n",
      "solarmax        33.97464       -117.32234        6\n",
      "freedom         33.48391       -117.22075        6\n",
      "bright          42.19689       -71.84549         4\n",
      "Name: count, dtype: int64\n",
      "Installer Name  installer_lat  installer_lng\n",
      "sunrun          40.49865       -74.53284        16\n",
      "sunpower        37.92074       -122.34204        5\n",
      "tesla           37.50653       -121.96361        4\n",
      "grid            37.83611       -122.28621        2\n",
      "other           33.94266       -117.95126        1\n",
      "Name: count, dtype: int64\n",
      "Installer Name  installer_lat  installer_lng\n",
      "sunrun          40.49865       -74.53284        9\n",
      "sunpower        37.92074       -122.34204       5\n",
      "freedom         33.48391       -117.22075       3\n",
      "solar           33.08555       -117.12885       2\n",
      "other           33.66525       -117.96755       2\n",
      "Name: count, dtype: int64\n"
     ]
    }
   ],
   "source": [
    "top_competitors = []\n",
    "competitors_info = []\n",
    "for i in range(to_be_guessed.shape[0]):\n",
    "\n",
    "    top_competitors = find_competitors(to_be_guessed.iloc[i], new_df)\n",
    "    top_competitors.append(top_competitors)\n",
    "    compet_info = compute_compet_info(quantiles, top_competitors, to_be_guessed.iloc[[i]])\n",
    "    competitors_info.append(compet_info)\n",
    "    \n",
    "#     print(compet_info)\n",
    "#     print(compute_optimal_price(compet_info, 2.5 ))"
   ]
  },
  {
   "cell_type": "code",
   "execution_count": 111,
   "id": "75d66d0b",
   "metadata": {},
   "outputs": [
    {
     "data": {
      "image/png": "[encoded data removed]",
      "text/plain": [
       "<Figure size 800x600 with 1 Axes>"
      ]
     },
     "metadata": {},
     "output_type": "display_data"
    }
   ],
   "source": [
    "price, probability = generate_distribution(competitors_info[1].iloc[2])\n",
    "\n",
    "plt.figure(figsize=(8, 6))\n",
    "plt.plot(price, probability, marker='o')\n",
    "plt.xlabel('Quantiles')\n",
    "plt.ylabel('Cumulative Density')\n",
    "plt.title('Cumulative Density Distribution')\n",
    "plt.grid(True)\n",
    "plt.show()"
   ]
  },
  {
   "cell_type": "code",
   "execution_count": 112,
   "id": "4d5f7153",
   "metadata": {},
   "outputs": [],
   "source": [
    "optimal_prices = []\n",
    "for competitor_info in competitors_info:\n",
    "    optimal_prices.append(compute_optimal_price(competitor_info, 2.0 , False))\n"
   ]
  },
  {
   "cell_type": "code",
   "execution_count": 117,
   "id": "9da57793",
   "metadata": {},
   "outputs": [
    {
     "name": "stdout",
     "output_type": "stream",
     "text": [
      "         Real Price  Computed Optimal Pirce\n",
      "1291902    1.288224                    2.63\n",
      "1220762    4.357276                    5.97\n",
      "1285948    3.587212                    4.72\n",
      "1253938    2.749364                    5.34\n",
      "1238289    3.972942                    6.05\n",
      "1243321    5.165211                    5.67\n",
      "1292602    3.566711                    4.87\n",
      "1238447    5.130745                    4.72\n",
      "1218830    5.703549                    4.99\n",
      "1285732    3.954358                    5.78\n",
      "1256727    2.420998                    7.93\n",
      "1276423    4.888992                    5.09\n",
      "1273232    5.771259                    5.03\n",
      "1256542    4.850356                    5.42\n",
      "1699719    3.374748                    6.60\n",
      "1238084    3.517500                    3.90\n",
      "1254377    3.960432                    5.94\n",
      "1293387    3.437855                    3.43\n",
      "1277579    3.373059                    4.82\n",
      "1291880    3.753321                    5.74\n"
     ]
    }
   ],
   "source": [
    "exp = to_be_guessed.copy()\n",
    "exp['Computed Optimal Price'] = optimal_prices\n",
    "real_price_and_computed_price = exp[['Cost/Watt','Computed Optimal Price']]\n",
    "real_price_and_computed_price.columns = ['Real Price', 'Computed Optimal Pirce']\n",
    "print(real_price_and_computed_price)"
   ]
  },
  {
   "cell_type": "markdown",
   "id": "7aa9e511",
   "metadata": {},
   "source": [
    "# Next stage: test on quote data. Ideally, the quotes whose price are closer to the price computed by our methodology should have higher average profit."
   ]
  },
  {
   "cell_type": "code",
   "execution_count": null,
   "id": "568a1d46",
   "metadata": {},
   "outputs": [],
   "source": []
  }
 ],
 "metadata": {
  "kernelspec": {
   "display_name": "Python 3 (ipykernel)",
   "language": "python",
   "name": "python3"
  },
  "language_info": {
   "codemirror_mode": {
    "name": "ipython",
    "version": 3
   },
   "file_extension": ".py",
   "mimetype": "text/x-python",
   "name": "python",
   "nbconvert_exporter": "python",
   "pygments_lexer": "ipython3",
   "version": "3.9.16"
  }
 },
 "nbformat": 4,
 "nbformat_minor": 5
}
